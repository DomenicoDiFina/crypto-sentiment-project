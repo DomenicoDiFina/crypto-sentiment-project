{
 "metadata": {
  "language_info": {
   "codemirror_mode": {
    "name": "ipython",
    "version": 3
   },
   "file_extension": ".py",
   "mimetype": "text/x-python",
   "name": "python",
   "nbconvert_exporter": "python",
   "pygments_lexer": "ipython3",
   "version": "3.9.5"
  },
  "orig_nbformat": 2,
  "kernelspec": {
   "name": "python395jvsc74a57bd0567263eb9c70b7a06efe424f51665745141392ce3a9f23df381f8e9f985166a8",
   "display_name": "Python 3.9.5 64-bit (windows store)"
  },
  "metadata": {
   "interpreter": {
    "hash": "567263eb9c70b7a06efe424f51665745141392ce3a9f23df381f8e9f985166a8"
   }
  }
 },
 "nbformat": 4,
 "nbformat_minor": 2,
 "cells": [
  {
   "cell_type": "code",
   "execution_count": 31,
   "metadata": {},
   "outputs": [],
   "source": [
    "from sklearn.feature_extraction.text import TfidfVectorizer\n",
    "from sklearn.metrics.pairwise import cosine_similarity\n",
    "from scipy import spatial\n",
    "import numpy as np\n",
    "from pre_processing import pre_processing"
   ]
  },
  {
   "source": [
    "## Definisco la lista delle crypto "
   ],
   "cell_type": "markdown",
   "metadata": {}
  },
  {
   "cell_type": "code",
   "execution_count": 32,
   "metadata": {},
   "outputs": [],
   "source": [
    "crypto = ['bitcoin BTC', 'ethereum ETH', 'Ripple XRP', 'Binance Coin BNB', 'Tether USDT', 'Cardano ADA', 'Dogecoin DOGE', 'Polkadot DOT', 'Internet Computer ICP', 'XRP', 'Uniswap UNI', 'Polygon MATIC', 'Stellar XLM', 'Litecoin LTC', 'VeChain VET', 'Solana SOL', 'SHIBA INU SHIB']\n",
    "crypto = [c.lower() for c in crypto]"
   ]
  },
  {
   "source": [
    "## APPLICAZIONE TF-IDF "
   ],
   "cell_type": "markdown",
   "metadata": {}
  },
  {
   "cell_type": "code",
   "execution_count": 33,
   "metadata": {},
   "outputs": [],
   "source": [
    "tf_idf_vectorizer = TfidfVectorizer()\n",
    "crypto_vectorized = tf_idf_vectorizer.fit_transform(crypto)"
   ]
  },
  {
   "cell_type": "code",
   "execution_count": 34,
   "metadata": {},
   "outputs": [],
   "source": [
    "# return a list of crypto discussed in a tweet\n",
    "\n",
    "def get_topics(crypto, tf_idf_vectorizer, crypto_vectorized, tweet):\n",
    "    tweet_vectorized = tf_idf_vectorizer.transform([tweet])    \n",
    "    cosine_sim = cosine_similarity(crypto_vectorized, tweet_vectorized)\n",
    "\n",
    "    if np.max(cosine_sim) > 0:\n",
    "        return [crypto[i] for i, value in enumerate(cosine_sim) if value > 0]\n",
    "    else:\n",
    "        return None"
   ]
  },
  {
   "cell_type": "code",
   "execution_count": 35,
   "metadata": {},
   "outputs": [
    {
     "output_type": "stream",
     "name": "stdout",
     "text": [
      "[['doge', 'to', 'the', 'moon', 'as', 'soon', 'as', 'possible', 'but', 'bitcoin', 'is', 'also', 'good'], ['bitcoin', 'forever'], ['eth', 'is', 'life'], ['dario', 'you', 'broker']]\n['bitcoin btc', 'dogecoin doge']\n['bitcoin btc']\n['ethereum eth']\nNone\n"
     ]
    }
   ],
   "source": [
    "tweets = ['doge to the moon asap, but bitcoin is also good!', 'bitcoin forever', 'eth is life', 'dario u broker']\n",
    "tweets, tweets_preprocessed = pre_processing(tweets)\n",
    "\n",
    "print(tweets_preprocessed)\n",
    "\n",
    "for tweet in tweets:\n",
    "    print(get_topics(crypto, tf_idf_vectorizer, crypto_vectorized, tweet))"
   ]
  },
  {
   "cell_type": "code",
   "execution_count": null,
   "metadata": {},
   "outputs": [],
   "source": []
  },
  {
   "cell_type": "code",
   "execution_count": null,
   "metadata": {},
   "outputs": [],
   "source": []
  }
 ]
}