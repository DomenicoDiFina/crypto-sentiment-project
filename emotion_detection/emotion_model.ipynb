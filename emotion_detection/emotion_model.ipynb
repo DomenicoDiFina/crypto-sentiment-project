{
 "metadata": {
  "language_info": {
   "codemirror_mode": {
    "name": "ipython",
    "version": 3
   },
   "file_extension": ".py",
   "mimetype": "text/x-python",
   "name": "python",
   "nbconvert_exporter": "python",
   "pygments_lexer": "ipython3",
   "version": "3.8.10"
  },
  "orig_nbformat": 2,
  "kernelspec": {
   "name": "python3810jvsc74a57bd08aa68ecb43db546bb13fa2a9b715ffd5ca041c3610f015e20ddb5f048cd52453",
   "display_name": "Python 3.8.10 64-bit ('tensor': conda)"
  }
 },
 "nbformat": 4,
 "nbformat_minor": 2,
 "cells": [
  {
   "cell_type": "code",
   "execution_count": 1,
   "metadata": {},
   "outputs": [],
   "source": [
    "from sklearn.feature_extraction.text import TfidfVectorizer\n",
    "from sklearn.metrics import accuracy_score\n",
    "from sklearn.neighbors import KNeighborsClassifier\n",
    "from sklearn.model_selection import train_test_split"
   ]
  },
  {
   "cell_type": "code",
   "execution_count": 3,
   "metadata": {},
   "outputs": [],
   "source": [
    "import pickle\n",
    "with open('dataset_emotion_preprocessed.pickle', 'rb') as f:\n",
    "   dataset_emotion = pickle.load(f)"
   ]
  },
  {
   "cell_type": "code",
   "execution_count": 4,
   "metadata": {},
   "outputs": [],
   "source": [
    "tf_idf_vectorizer = TfidfVectorizer()\n",
    "emotion_vectorized = tf_idf_vectorizer.fit_transform(dataset_emotion['processed'])"
   ]
  },
  {
   "cell_type": "code",
   "execution_count": 5,
   "metadata": {},
   "outputs": [
    {
     "output_type": "execute_result",
     "data": {
      "text/plain": [
       "KNeighborsClassifier(n_neighbors=3)"
      ]
     },
     "metadata": {},
     "execution_count": 5
    }
   ],
   "source": [
    "\n",
    "neigh = KNeighborsClassifier(n_neighbors=3)\n",
    "neigh.fit(emotion_vectorized, dataset_emotion['emotion'])"
   ]
  },
  {
   "cell_type": "code",
   "execution_count": 36,
   "metadata": {},
   "outputs": [],
   "source": [
    "\n",
    "X_train, X_test, y_train, y_test = train_test_split(dataset_emotion['processed'], dataset_emotion['emotion'], test_size=0.20, random_state=42)\n"
   ]
  },
  {
   "cell_type": "code",
   "execution_count": 24,
   "metadata": {},
   "outputs": [
    {
     "output_type": "execute_result",
     "data": {
      "text/plain": [
       "array(['worry'], dtype=object)"
      ]
     },
     "metadata": {},
     "execution_count": 24
    }
   ],
   "source": [
    "neigh.predict(tf_idf_vectorizer.transform(['love']))"
   ]
  },
  {
   "cell_type": "code",
   "execution_count": 37,
   "metadata": {},
   "outputs": [],
   "source": [
    "\n",
    "tf_idf_vectorizer = TfidfVectorizer()\n",
    "emotion_vectorized = tf_idf_vectorizer.fit(dataset_emotion['processed'])"
   ]
  },
  {
   "cell_type": "code",
   "execution_count": 42,
   "metadata": {},
   "outputs": [
    {
     "output_type": "stream",
     "name": "stdout",
     "text": [
      "k= 1   0.2680274385143048\n",
      "k= 2   0.23381294964028776\n",
      "k= 3   0.2270369750711059\n",
      "k= 4   0.23883219006190395\n",
      "k= 5   0.22352350677597457\n",
      "k= 6   0.21842061234733143\n",
      "k= 7   0.2151581060732809\n",
      "k= 8   0.20813116948301824\n",
      "k= 9   0.23506775974569183\n",
      "k= 10   0.27430148904132506\n"
     ]
    }
   ],
   "source": [
    "for i in range(1,11):    \n",
    "    neigh = KNeighborsClassifier(n_neighbors=i)\n",
    "    neigh.fit(tf_idf_vectorizer.transform(X_train), y_train)\n",
    "    y_pred = neigh.predict(tf_idf_vectorizer.transform(X_test))\n",
    "    print('k=',i,' ',accuracy_score(y_test,y_pred))"
   ]
  }
 ]
}