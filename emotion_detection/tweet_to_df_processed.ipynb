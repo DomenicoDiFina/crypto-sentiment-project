{
 "metadata": {
  "language_info": {
   "codemirror_mode": {
    "name": "ipython",
    "version": 3
   },
   "file_extension": ".py",
   "mimetype": "text/x-python",
   "name": "python",
   "nbconvert_exporter": "python",
   "pygments_lexer": "ipython3",
   "version": "3.8.5"
  },
  "orig_nbformat": 2,
  "kernelspec": {
   "name": "venv",
   "display_name": "Python 3.8.5 64-bit ('venv': venv)"
  }
 },
 "nbformat": 4,
 "nbformat_minor": 2,
 "cells": [
  {
   "cell_type": "code",
   "execution_count": 10,
   "metadata": {},
   "outputs": [],
   "source": [
    "import pandas as pd\n",
    "import pickle\n",
    "import sys\n",
    "sys.path.append('../')\n",
    "from pre_processing import pre_processing"
   ]
  },
  {
   "cell_type": "code",
   "execution_count": 4,
   "metadata": {},
   "outputs": [],
   "source": [
    "df = pd.read_csv('../dataset/tweet_emotions.csv', delimiter=',')\n",
    "df = df[df[\"sentiment\"] != \"empty\"]"
   ]
  },
  {
   "cell_type": "code",
   "execution_count": 6,
   "metadata": {},
   "outputs": [
    {
     "output_type": "execute_result",
     "data": {
      "text/plain": [
       "array(['sadness', 'enthusiasm', 'neutral', 'worry', 'surprise', 'love',\n",
       "       'fun', 'hate', 'happiness', 'boredom', 'relief', 'anger'],\n",
       "      dtype=object)"
      ]
     },
     "metadata": {},
     "execution_count": 6
    }
   ],
   "source": [
    "df[\"sentiment\"].unique()"
   ]
  },
  {
   "cell_type": "code",
   "execution_count": 12,
   "metadata": {},
   "outputs": [
    {
     "output_type": "stream",
     "name": "stderr",
     "text": [
      "Processing tweets:: 100%|██████████| 39173/39173 [00:04<00:00, 8621.92it/s]\n",
      "word tokenize process: 100%|██████████| 39173/39173 [21:39<00:00, 30.16it/s]\n",
      "Remove stop word: 100%|██████████| 39173/39173 [00:04<00:00, 9716.67it/s]\n"
     ]
    }
   ],
   "source": [
    "\n",
    "df['sentiment']= df['sentiment'].replace(['enthusiasm','anger', 'fun', 'hate','boredom','relief','anger'],['happiness','sadness','happiness','sadness', 'worry','happiness','sadness'])\n",
    "df = df.drop('tweet_id', axis=1)\n",
    "tweets = pre_processing(list(df['content']))"
   ]
  },
  {
   "cell_type": "code",
   "execution_count": 17,
   "metadata": {},
   "outputs": [
    {
     "output_type": "execute_result",
     "data": {
      "text/plain": [
       "array(['sadness', 'happiness', 'neutral', 'worry', 'surprise', 'love'],\n",
       "      dtype=object)"
      ]
     },
     "metadata": {},
     "execution_count": 17
    }
   ],
   "source": [
    "df[\"sentiment\"].unique()"
   ]
  },
  {
   "cell_type": "code",
   "execution_count": 18,
   "metadata": {},
   "outputs": [],
   "source": [
    "with open('tweet_preprocessed.sav', 'wb') as f:\n",
    "   pickle.dump(tweets, f)"
   ]
  },
  {
   "cell_type": "code",
   "execution_count": 2,
   "metadata": {},
   "outputs": [],
   "source": [
    "with open('tweet_preprocessed.sav', 'rb') as f:\n",
    "   tweets = pickle.load(f)"
   ]
  },
  {
   "cell_type": "code",
   "execution_count": 19,
   "metadata": {},
   "outputs": [
    {
     "output_type": "execute_result",
     "data": {
      "text/plain": [
       "                                                  tweets    emotion\n",
       "1        [layin, n, bed, headache, ughhhh, waitin, call]    sadness\n",
       "2                    [funeral, ceremony, gloomy, friday]    sadness\n",
       "3                           [wants, hang, friends, soon]  happiness\n",
       "4          [want, trade, someone, houston, tickets, one]    neutral\n",
       "5             [pinging, go, prom, bc, bf, like, friends]      worry\n",
       "...                                                  ...        ...\n",
       "39995                                                 []    neutral\n",
       "39996                        [happy, mothers, day, love]       love\n",
       "39997  [happy, mother, day, mommies, woman, man, long...       love\n",
       "39998  [wassyoup, beayoutifyoul, follow, peep, oyout,...  happiness\n",
       "39999  [bullet, train, tokyo, gf, visiting, japan, si...       love\n",
       "\n",
       "[39173 rows x 2 columns]"
      ],
      "text/html": "<div>\n<style scoped>\n    .dataframe tbody tr th:only-of-type {\n        vertical-align: middle;\n    }\n\n    .dataframe tbody tr th {\n        vertical-align: top;\n    }\n\n    .dataframe thead th {\n        text-align: right;\n    }\n</style>\n<table border=\"1\" class=\"dataframe\">\n  <thead>\n    <tr style=\"text-align: right;\">\n      <th></th>\n      <th>tweets</th>\n      <th>emotion</th>\n    </tr>\n  </thead>\n  <tbody>\n    <tr>\n      <th>1</th>\n      <td>[layin, n, bed, headache, ughhhh, waitin, call]</td>\n      <td>sadness</td>\n    </tr>\n    <tr>\n      <th>2</th>\n      <td>[funeral, ceremony, gloomy, friday]</td>\n      <td>sadness</td>\n    </tr>\n    <tr>\n      <th>3</th>\n      <td>[wants, hang, friends, soon]</td>\n      <td>happiness</td>\n    </tr>\n    <tr>\n      <th>4</th>\n      <td>[want, trade, someone, houston, tickets, one]</td>\n      <td>neutral</td>\n    </tr>\n    <tr>\n      <th>5</th>\n      <td>[pinging, go, prom, bc, bf, like, friends]</td>\n      <td>worry</td>\n    </tr>\n    <tr>\n      <th>...</th>\n      <td>...</td>\n      <td>...</td>\n    </tr>\n    <tr>\n      <th>39995</th>\n      <td>[]</td>\n      <td>neutral</td>\n    </tr>\n    <tr>\n      <th>39996</th>\n      <td>[happy, mothers, day, love]</td>\n      <td>love</td>\n    </tr>\n    <tr>\n      <th>39997</th>\n      <td>[happy, mother, day, mommies, woman, man, long...</td>\n      <td>love</td>\n    </tr>\n    <tr>\n      <th>39998</th>\n      <td>[wassyoup, beayoutifyoul, follow, peep, oyout,...</td>\n      <td>happiness</td>\n    </tr>\n    <tr>\n      <th>39999</th>\n      <td>[bullet, train, tokyo, gf, visiting, japan, si...</td>\n      <td>love</td>\n    </tr>\n  </tbody>\n</table>\n<p>39173 rows × 2 columns</p>\n</div>"
     },
     "metadata": {},
     "execution_count": 19
    }
   ],
   "source": [
    "df_tweets = pd.DataFrame({'tweets':tweets, 'emotion': df['sentiment']})\n",
    "df_tweets"
   ]
  },
  {
   "cell_type": "code",
   "execution_count": 20,
   "metadata": {},
   "outputs": [
    {
     "output_type": "execute_result",
     "data": {
      "text/plain": [
       "                                                  tweets    emotion\n",
       "1        [layin, n, bed, headache, ughhhh, waitin, call]    sadness\n",
       "2                    [funeral, ceremony, gloomy, friday]    sadness\n",
       "3                           [wants, hang, friends, soon]  happiness\n",
       "4          [want, trade, someone, houston, tickets, one]    neutral\n",
       "5             [pinging, go, prom, bc, bf, like, friends]      worry\n",
       "...                                                  ...        ...\n",
       "39994                    [succesfully, following, tayla]  happiness\n",
       "39996                        [happy, mothers, day, love]       love\n",
       "39997  [happy, mother, day, mommies, woman, man, long...       love\n",
       "39998  [wassyoup, beayoutifyoul, follow, peep, oyout,...  happiness\n",
       "39999  [bullet, train, tokyo, gf, visiting, japan, si...       love\n",
       "\n",
       "[38966 rows x 2 columns]"
      ],
      "text/html": "<div>\n<style scoped>\n    .dataframe tbody tr th:only-of-type {\n        vertical-align: middle;\n    }\n\n    .dataframe tbody tr th {\n        vertical-align: top;\n    }\n\n    .dataframe thead th {\n        text-align: right;\n    }\n</style>\n<table border=\"1\" class=\"dataframe\">\n  <thead>\n    <tr style=\"text-align: right;\">\n      <th></th>\n      <th>tweets</th>\n      <th>emotion</th>\n    </tr>\n  </thead>\n  <tbody>\n    <tr>\n      <th>1</th>\n      <td>[layin, n, bed, headache, ughhhh, waitin, call]</td>\n      <td>sadness</td>\n    </tr>\n    <tr>\n      <th>2</th>\n      <td>[funeral, ceremony, gloomy, friday]</td>\n      <td>sadness</td>\n    </tr>\n    <tr>\n      <th>3</th>\n      <td>[wants, hang, friends, soon]</td>\n      <td>happiness</td>\n    </tr>\n    <tr>\n      <th>4</th>\n      <td>[want, trade, someone, houston, tickets, one]</td>\n      <td>neutral</td>\n    </tr>\n    <tr>\n      <th>5</th>\n      <td>[pinging, go, prom, bc, bf, like, friends]</td>\n      <td>worry</td>\n    </tr>\n    <tr>\n      <th>...</th>\n      <td>...</td>\n      <td>...</td>\n    </tr>\n    <tr>\n      <th>39994</th>\n      <td>[succesfully, following, tayla]</td>\n      <td>happiness</td>\n    </tr>\n    <tr>\n      <th>39996</th>\n      <td>[happy, mothers, day, love]</td>\n      <td>love</td>\n    </tr>\n    <tr>\n      <th>39997</th>\n      <td>[happy, mother, day, mommies, woman, man, long...</td>\n      <td>love</td>\n    </tr>\n    <tr>\n      <th>39998</th>\n      <td>[wassyoup, beayoutifyoul, follow, peep, oyout,...</td>\n      <td>happiness</td>\n    </tr>\n    <tr>\n      <th>39999</th>\n      <td>[bullet, train, tokyo, gf, visiting, japan, si...</td>\n      <td>love</td>\n    </tr>\n  </tbody>\n</table>\n<p>38966 rows × 2 columns</p>\n</div>"
     },
     "metadata": {},
     "execution_count": 20
    }
   ],
   "source": [
    "df_tweets = df_tweets[df_tweets['tweets'].str.len() != 0]\n",
    "df_tweets"
   ]
  },
  {
   "cell_type": "code",
   "execution_count": 21,
   "metadata": {},
   "outputs": [],
   "source": [
    "with open('df_preprocessed_1.sav', 'wb') as f:\n",
    "   pickle.dump(df_tweets, f)"
   ]
  }
 ]
}