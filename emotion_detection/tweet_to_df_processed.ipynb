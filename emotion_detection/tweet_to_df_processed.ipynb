{
 "metadata": {
  "language_info": {
   "codemirror_mode": {
    "name": "ipython",
    "version": 3
   },
   "file_extension": ".py",
   "mimetype": "text/x-python",
   "name": "python",
   "nbconvert_exporter": "python",
   "pygments_lexer": "ipython3",
   "version": "3.8.10"
  },
  "orig_nbformat": 2,
  "kernelspec": {
   "name": "python3810jvsc74a57bd08aa68ecb43db546bb13fa2a9b715ffd5ca041c3610f015e20ddb5f048cd52453",
   "display_name": "Python 3.8.10 64-bit ('tensor': conda)"
  }
 },
 "nbformat": 4,
 "nbformat_minor": 2,
 "cells": [
  {
   "cell_type": "code",
   "execution_count": 4,
   "metadata": {},
   "outputs": [],
   "source": [
    "import pandas as pd\n",
    "from pre_processing import pre_processing"
   ]
  },
  {
   "cell_type": "code",
   "execution_count": 5,
   "metadata": {},
   "outputs": [],
   "source": [
    "df = pd.read_csv('tweet_emotions.csv', delimiter=',')\n",
    "df['sentiment'] = df['sentiment'].apply(lambda x : x if x in ['happiness', 'sadness', 'worry', 'neutral', 'love'] else \"other\") \n",
    "df = df.drop('tweet_id', axis=1)\n",
    "#tweets = pre_processing(list(df['content']))\n",
    "#print(tweets)"
   ]
  },
  {
   "cell_type": "code",
   "execution_count": null,
   "metadata": {},
   "outputs": [],
   "source": [
    "\"\"\"import pickle\n",
    "\n",
    "with open('tweet_preprocessed.sav', 'wb') as f:\n",
    "   pickle.dump(tweets, f)\"\"\""
   ]
  },
  {
   "cell_type": "code",
   "execution_count": 2,
   "metadata": {},
   "outputs": [],
   "source": [
    "import pickle\n",
    "\n",
    "with open('tweet_preprocessed.sav', 'rb') as f:\n",
    "   tweets = pickle.load(f)"
   ]
  },
  {
   "cell_type": "code",
   "execution_count": 6,
   "metadata": {},
   "outputs": [
    {
     "output_type": "execute_result",
     "data": {
      "text/plain": [
       "                                                  tweets    emotion\n",
       "0      [know, listenin, bad, habit, earlier, started,...      other\n",
       "1        [layin, n, bed, headache, ughhhh, waitin, call]    sadness\n",
       "2                    [funeral, ceremony, gloomy, friday]    sadness\n",
       "3                           [wants, hang, friends, soon]      other\n",
       "4          [want, trade, someone, houston, tickets, one]    neutral\n",
       "...                                                  ...        ...\n",
       "39995                                                 []    neutral\n",
       "39996                        [happy, mothers, day, love]       love\n",
       "39997  [happy, mother, day, mommies, woman, man, long...       love\n",
       "39998  [wassyoup, beayoutifyoul, follow, peep, oyout,...  happiness\n",
       "39999  [bullet, train, tokyo, gf, visiting, japan, si...       love\n",
       "\n",
       "[40000 rows x 2 columns]"
      ],
      "text/html": "<div>\n<style scoped>\n    .dataframe tbody tr th:only-of-type {\n        vertical-align: middle;\n    }\n\n    .dataframe tbody tr th {\n        vertical-align: top;\n    }\n\n    .dataframe thead th {\n        text-align: right;\n    }\n</style>\n<table border=\"1\" class=\"dataframe\">\n  <thead>\n    <tr style=\"text-align: right;\">\n      <th></th>\n      <th>tweets</th>\n      <th>emotion</th>\n    </tr>\n  </thead>\n  <tbody>\n    <tr>\n      <th>0</th>\n      <td>[know, listenin, bad, habit, earlier, started,...</td>\n      <td>other</td>\n    </tr>\n    <tr>\n      <th>1</th>\n      <td>[layin, n, bed, headache, ughhhh, waitin, call]</td>\n      <td>sadness</td>\n    </tr>\n    <tr>\n      <th>2</th>\n      <td>[funeral, ceremony, gloomy, friday]</td>\n      <td>sadness</td>\n    </tr>\n    <tr>\n      <th>3</th>\n      <td>[wants, hang, friends, soon]</td>\n      <td>other</td>\n    </tr>\n    <tr>\n      <th>4</th>\n      <td>[want, trade, someone, houston, tickets, one]</td>\n      <td>neutral</td>\n    </tr>\n    <tr>\n      <th>...</th>\n      <td>...</td>\n      <td>...</td>\n    </tr>\n    <tr>\n      <th>39995</th>\n      <td>[]</td>\n      <td>neutral</td>\n    </tr>\n    <tr>\n      <th>39996</th>\n      <td>[happy, mothers, day, love]</td>\n      <td>love</td>\n    </tr>\n    <tr>\n      <th>39997</th>\n      <td>[happy, mother, day, mommies, woman, man, long...</td>\n      <td>love</td>\n    </tr>\n    <tr>\n      <th>39998</th>\n      <td>[wassyoup, beayoutifyoul, follow, peep, oyout,...</td>\n      <td>happiness</td>\n    </tr>\n    <tr>\n      <th>39999</th>\n      <td>[bullet, train, tokyo, gf, visiting, japan, si...</td>\n      <td>love</td>\n    </tr>\n  </tbody>\n</table>\n<p>40000 rows × 2 columns</p>\n</div>"
     },
     "metadata": {},
     "execution_count": 6
    }
   ],
   "source": [
    "df_tweets = pd.DataFrame({'tweets':tweets, 'emotion': df['sentiment']})\n",
    "df_tweets"
   ]
  },
  {
   "cell_type": "code",
   "execution_count": 8,
   "metadata": {},
   "outputs": [
    {
     "output_type": "execute_result",
     "data": {
      "text/plain": [
       "                                                  tweets    emotion\n",
       "0      [know, listenin, bad, habit, earlier, started,...      other\n",
       "1        [layin, n, bed, headache, ughhhh, waitin, call]    sadness\n",
       "2                    [funeral, ceremony, gloomy, friday]    sadness\n",
       "3                           [wants, hang, friends, soon]      other\n",
       "4          [want, trade, someone, houston, tickets, one]    neutral\n",
       "...                                                  ...        ...\n",
       "39994                    [succesfully, following, tayla]  happiness\n",
       "39996                        [happy, mothers, day, love]       love\n",
       "39997  [happy, mother, day, mommies, woman, man, long...       love\n",
       "39998  [wassyoup, beayoutifyoul, follow, peep, oyout,...  happiness\n",
       "39999  [bullet, train, tokyo, gf, visiting, japan, si...       love\n",
       "\n",
       "[39770 rows x 2 columns]"
      ],
      "text/html": "<div>\n<style scoped>\n    .dataframe tbody tr th:only-of-type {\n        vertical-align: middle;\n    }\n\n    .dataframe tbody tr th {\n        vertical-align: top;\n    }\n\n    .dataframe thead th {\n        text-align: right;\n    }\n</style>\n<table border=\"1\" class=\"dataframe\">\n  <thead>\n    <tr style=\"text-align: right;\">\n      <th></th>\n      <th>tweets</th>\n      <th>emotion</th>\n    </tr>\n  </thead>\n  <tbody>\n    <tr>\n      <th>0</th>\n      <td>[know, listenin, bad, habit, earlier, started,...</td>\n      <td>other</td>\n    </tr>\n    <tr>\n      <th>1</th>\n      <td>[layin, n, bed, headache, ughhhh, waitin, call]</td>\n      <td>sadness</td>\n    </tr>\n    <tr>\n      <th>2</th>\n      <td>[funeral, ceremony, gloomy, friday]</td>\n      <td>sadness</td>\n    </tr>\n    <tr>\n      <th>3</th>\n      <td>[wants, hang, friends, soon]</td>\n      <td>other</td>\n    </tr>\n    <tr>\n      <th>4</th>\n      <td>[want, trade, someone, houston, tickets, one]</td>\n      <td>neutral</td>\n    </tr>\n    <tr>\n      <th>...</th>\n      <td>...</td>\n      <td>...</td>\n    </tr>\n    <tr>\n      <th>39994</th>\n      <td>[succesfully, following, tayla]</td>\n      <td>happiness</td>\n    </tr>\n    <tr>\n      <th>39996</th>\n      <td>[happy, mothers, day, love]</td>\n      <td>love</td>\n    </tr>\n    <tr>\n      <th>39997</th>\n      <td>[happy, mother, day, mommies, woman, man, long...</td>\n      <td>love</td>\n    </tr>\n    <tr>\n      <th>39998</th>\n      <td>[wassyoup, beayoutifyoul, follow, peep, oyout,...</td>\n      <td>happiness</td>\n    </tr>\n    <tr>\n      <th>39999</th>\n      <td>[bullet, train, tokyo, gf, visiting, japan, si...</td>\n      <td>love</td>\n    </tr>\n  </tbody>\n</table>\n<p>39770 rows × 2 columns</p>\n</div>"
     },
     "metadata": {},
     "execution_count": 8
    }
   ],
   "source": [
    "df_tweets = df_tweets[df_tweets['tweets'].str.len() != 0]\n",
    "df_tweets"
   ]
  },
  {
   "cell_type": "code",
   "execution_count": 9,
   "metadata": {},
   "outputs": [],
   "source": [
    "with open('df_preprocessed_1.sav', 'wb') as f:\n",
    "   pickle.dump(df_tweets, f)"
   ]
  },
  {
   "cell_type": "code",
   "execution_count": null,
   "metadata": {},
   "outputs": [],
   "source": []
  }
 ]
}