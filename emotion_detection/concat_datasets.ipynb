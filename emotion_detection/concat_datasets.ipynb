{
 "metadata": {
  "language_info": {
   "codemirror_mode": {
    "name": "ipython",
    "version": 3
   },
   "file_extension": ".py",
   "mimetype": "text/x-python",
   "name": "python",
   "nbconvert_exporter": "python",
   "pygments_lexer": "ipython3",
   "version": "3.8.5"
  },
  "orig_nbformat": 2,
  "kernelspec": {
   "name": "python385jvsc74a57bd0e8cf27ca7fe1f44572ebd606cffb3470dda0dafe0d98156262796b51af03dddc",
   "display_name": "Python 3.8.5 64-bit ('base': conda)"
  }
 },
 "nbformat": 4,
 "nbformat_minor": 2,
 "cells": [
  {
   "cell_type": "code",
   "execution_count": 33,
   "metadata": {},
   "outputs": [],
   "source": [
    "import pandas as pd \n",
    "import pickle\n",
    "from pre_processing import pre_processing"
   ]
  },
  {
   "cell_type": "code",
   "execution_count": 34,
   "metadata": {},
   "outputs": [],
   "source": [
    "with open('df_preprocessed_1.sav', 'rb') as f:\n",
    "   tweet_processed = pickle.load(f)\n",
    "\n",
    "with open('df_preprocessed_2.sav', 'rb') as f:\n",
    "   content_processed = pickle.load(f)\n",
    "\n"
   ]
  },
  {
   "cell_type": "code",
   "execution_count": 51,
   "metadata": {},
   "outputs": [],
   "source": [
    "df_worry = pd.read_csv('worry_df.csv', delimiter='\\t', header=None, names=['id', 'tweet', 'sentiment', 'value'])"
   ]
  },
  {
   "cell_type": "code",
   "execution_count": 52,
   "metadata": {},
   "outputs": [],
   "source": [
    "df_worry_2 = pd.read_csv('worry_df_2.csv', delimiter='\\t', header=None, names=['id', 'tweet', 'sentiment', 'value'])"
   ]
  },
  {
   "cell_type": "code",
   "execution_count": 66,
   "metadata": {},
   "outputs": [
    {
     "output_type": "execute_result",
     "data": {
      "text/plain": [
       "                                                  tweet sentiment\n",
       "1     Watch KE Ranganathan, Managing Director, Parry...      love\n",
       "5     I’m in love ❤️ with @Khruangbin  https://t.co/...      love\n",
       "7     Thor: Love and Thunder Wraps Up Production, Ch...      love\n",
       "8     Here’s some:  Roy Ayers - Everybody Loves The ...      love\n",
       "16                                Thanks Linn love you!      love\n",
       "...                                                 ...       ...\n",
       "9995                     @TeaWithTami i love this album      love\n",
       "9996  @Jojo00393129 Stop what you're doing and liste...      love\n",
       "9997                  Happy PRIDE MONTH! I love youuuuu      love\n",
       "9998  @fashionstreetbp the love issue  https://t.co/...      love\n",
       "9999  For June, the month of the #Sacredheart.  What...      love\n",
       "\n",
       "[8966 rows x 2 columns]"
      ],
      "text/html": "<div>\n<style scoped>\n    .dataframe tbody tr th:only-of-type {\n        vertical-align: middle;\n    }\n\n    .dataframe tbody tr th {\n        vertical-align: top;\n    }\n\n    .dataframe thead th {\n        text-align: right;\n    }\n</style>\n<table border=\"1\" class=\"dataframe\">\n  <thead>\n    <tr style=\"text-align: right;\">\n      <th></th>\n      <th>tweet</th>\n      <th>sentiment</th>\n    </tr>\n  </thead>\n  <tbody>\n    <tr>\n      <th>1</th>\n      <td>Watch KE Ranganathan, Managing Director, Parry...</td>\n      <td>love</td>\n    </tr>\n    <tr>\n      <th>5</th>\n      <td>I’m in love ❤️ with @Khruangbin  https://t.co/...</td>\n      <td>love</td>\n    </tr>\n    <tr>\n      <th>7</th>\n      <td>Thor: Love and Thunder Wraps Up Production, Ch...</td>\n      <td>love</td>\n    </tr>\n    <tr>\n      <th>8</th>\n      <td>Here’s some:  Roy Ayers - Everybody Loves The ...</td>\n      <td>love</td>\n    </tr>\n    <tr>\n      <th>16</th>\n      <td>Thanks Linn love you!</td>\n      <td>love</td>\n    </tr>\n    <tr>\n      <th>...</th>\n      <td>...</td>\n      <td>...</td>\n    </tr>\n    <tr>\n      <th>9995</th>\n      <td>@TeaWithTami i love this album</td>\n      <td>love</td>\n    </tr>\n    <tr>\n      <th>9996</th>\n      <td>@Jojo00393129 Stop what you're doing and liste...</td>\n      <td>love</td>\n    </tr>\n    <tr>\n      <th>9997</th>\n      <td>Happy PRIDE MONTH! I love youuuuu</td>\n      <td>love</td>\n    </tr>\n    <tr>\n      <th>9998</th>\n      <td>@fashionstreetbp the love issue  https://t.co/...</td>\n      <td>love</td>\n    </tr>\n    <tr>\n      <th>9999</th>\n      <td>For June, the month of the #Sacredheart.  What...</td>\n      <td>love</td>\n    </tr>\n  </tbody>\n</table>\n<p>8966 rows × 2 columns</p>\n</div>"
     },
     "metadata": {},
     "execution_count": 66
    }
   ],
   "source": [
    "df_love = pd.read_csv('love.csv')\n",
    "df_love = df_love[df_love['language'] == 'en']\n",
    "df_love = df_love.loc[:,['tweet']]\n",
    "df_love['sentiment'] = 'love'\n",
    "df_love"
   ]
  },
  {
   "cell_type": "code",
   "execution_count": 36,
   "metadata": {},
   "outputs": [],
   "source": [
    "df_worry = df_worry.loc[:,['tweet', 'sentiment']]"
   ]
  },
  {
   "cell_type": "code",
   "execution_count": 53,
   "metadata": {},
   "outputs": [],
   "source": [
    "df_worry_2 = df_worry_2.loc[:,['tweet', 'sentiment']]"
   ]
  },
  {
   "cell_type": "code",
   "execution_count": 37,
   "metadata": {},
   "outputs": [
    {
     "output_type": "stream",
     "name": "stderr",
     "text": [
      "Processing tweets:: 100%|██████████| 1147/1147 [00:00<00:00, 6473.55it/s]\n",
      "word tokenize process: 100%|██████████| 1147/1147 [01:22<00:00, 13.83it/s]\n",
      "Remove stop word: 100%|██████████| 1147/1147 [00:00<00:00, 1656.62it/s]\n"
     ]
    }
   ],
   "source": [
    "tweets = pre_processing(list(df_worry['tweet']))"
   ]
  },
  {
   "cell_type": "code",
   "execution_count": 54,
   "metadata": {},
   "outputs": [
    {
     "output_type": "stream",
     "name": "stderr",
     "text": [
      "Processing tweets:: 100%|██████████| 995/995 [00:00<00:00, 6082.87it/s]\n",
      "word tokenize process: 100%|██████████| 995/995 [01:05<00:00, 15.11it/s]\n",
      "Remove stop word: 100%|██████████| 995/995 [00:00<00:00, 1486.77it/s]\n"
     ]
    }
   ],
   "source": [
    "tweets_2 = pre_processing(list(df_worry_2['tweet']))"
   ]
  },
  {
   "cell_type": "code",
   "execution_count": 67,
   "metadata": {},
   "outputs": [
    {
     "output_type": "stream",
     "name": "stderr",
     "text": [
      "Processing tweets:: 100%|██████████| 8966/8966 [00:01<00:00, 6721.48it/s]\n",
      "word tokenize process: 100%|██████████| 8966/8966 [13:30<00:00, 11.06it/s]\n",
      "Remove stop word: 100%|██████████| 8966/8966 [00:05<00:00, 1494.94it/s]\n"
     ]
    }
   ],
   "source": [
    "tweets_3 = pre_processing(list(df_love['tweet']))"
   ]
  },
  {
   "cell_type": "code",
   "execution_count": 39,
   "metadata": {},
   "outputs": [],
   "source": [
    "df_tweets = pd.DataFrame({'tweets':tweets, 'emotion': df_worry['sentiment']})\n",
    "df_tweets['emotion'] = df_tweets['emotion'].replace('fear', 'worry')"
   ]
  },
  {
   "cell_type": "code",
   "execution_count": 55,
   "metadata": {},
   "outputs": [],
   "source": [
    "df_tweets_2 = pd.DataFrame({'tweets':tweets_2, 'emotion': df_worry_2['sentiment']})\n",
    "df_tweets_2['emotion'] = df_tweets_2['emotion'].replace('fear', 'worry')"
   ]
  },
  {
   "cell_type": "code",
   "execution_count": 68,
   "metadata": {},
   "outputs": [],
   "source": [
    "df_tweets_3 = pd.DataFrame({'tweets':tweets_3, 'emotion': df_love['sentiment']})"
   ]
  },
  {
   "cell_type": "code",
   "execution_count": 74,
   "metadata": {},
   "outputs": [
    {
     "output_type": "execute_result",
     "data": {
      "text/plain": [
       "                                                 tweets    emotion\n",
       "1       [layin, n, bed, headache, ughhhh, waitin, call]    sadness\n",
       "2                   [funeral, ceremony, gloomy, friday]    sadness\n",
       "3                          [wants, hang, friends, soon]  happiness\n",
       "4         [want, trade, someone, houston, tickets, one]    neutral\n",
       "5            [pinging, go, prom, bc, bf, like, friends]      worry\n",
       "...                                                 ...        ...\n",
       "9995                                      [love, album]       love\n",
       "9996  [stop, listen, z92, 5, love, lose, selenagomez...       love\n",
       "9997               [happy, pride, month, love, youuuuu]       love\n",
       "9998                                      [love, issue]       love\n",
       "9999  [june, month, sacredheart, mean, love, like, j...       love\n",
       "\n",
       "[70071 rows x 2 columns]"
      ],
      "text/html": "<div>\n<style scoped>\n    .dataframe tbody tr th:only-of-type {\n        vertical-align: middle;\n    }\n\n    .dataframe tbody tr th {\n        vertical-align: top;\n    }\n\n    .dataframe thead th {\n        text-align: right;\n    }\n</style>\n<table border=\"1\" class=\"dataframe\">\n  <thead>\n    <tr style=\"text-align: right;\">\n      <th></th>\n      <th>tweets</th>\n      <th>emotion</th>\n    </tr>\n  </thead>\n  <tbody>\n    <tr>\n      <th>1</th>\n      <td>[layin, n, bed, headache, ughhhh, waitin, call]</td>\n      <td>sadness</td>\n    </tr>\n    <tr>\n      <th>2</th>\n      <td>[funeral, ceremony, gloomy, friday]</td>\n      <td>sadness</td>\n    </tr>\n    <tr>\n      <th>3</th>\n      <td>[wants, hang, friends, soon]</td>\n      <td>happiness</td>\n    </tr>\n    <tr>\n      <th>4</th>\n      <td>[want, trade, someone, houston, tickets, one]</td>\n      <td>neutral</td>\n    </tr>\n    <tr>\n      <th>5</th>\n      <td>[pinging, go, prom, bc, bf, like, friends]</td>\n      <td>worry</td>\n    </tr>\n    <tr>\n      <th>...</th>\n      <td>...</td>\n      <td>...</td>\n    </tr>\n    <tr>\n      <th>9995</th>\n      <td>[love, album]</td>\n      <td>love</td>\n    </tr>\n    <tr>\n      <th>9996</th>\n      <td>[stop, listen, z92, 5, love, lose, selenagomez...</td>\n      <td>love</td>\n    </tr>\n    <tr>\n      <th>9997</th>\n      <td>[happy, pride, month, love, youuuuu]</td>\n      <td>love</td>\n    </tr>\n    <tr>\n      <th>9998</th>\n      <td>[love, issue]</td>\n      <td>love</td>\n    </tr>\n    <tr>\n      <th>9999</th>\n      <td>[june, month, sacredheart, mean, love, like, j...</td>\n      <td>love</td>\n    </tr>\n  </tbody>\n</table>\n<p>70071 rows × 2 columns</p>\n</div>"
     },
     "metadata": {},
     "execution_count": 74
    }
   ],
   "source": [
    "dataset_emotion = pd.concat([tweet_processed, content_processed, df_tweets, df_tweets_2, df_tweets_3])\n",
    "dataset_emotion"
   ]
  },
  {
   "cell_type": "code",
   "execution_count": 75,
   "metadata": {},
   "outputs": [
    {
     "output_type": "execute_result",
     "data": {
      "text/plain": [
       "                                        tokenized_tweets    emotion  \\\n",
       "0        [layin, n, bed, headache, ughhhh, waitin, call]    sadness   \n",
       "1                    [funeral, ceremony, gloomy, friday]    sadness   \n",
       "2                           [wants, hang, friends, soon]  happiness   \n",
       "3          [want, trade, someone, houston, tickets, one]    neutral   \n",
       "4             [pinging, go, prom, bc, bf, like, friends]      worry   \n",
       "...                                                  ...        ...   \n",
       "70066                                      [love, album]       love   \n",
       "70067  [stop, listen, z92, 5, love, lose, selenagomez...       love   \n",
       "70068               [happy, pride, month, love, youuuuu]       love   \n",
       "70069                                      [love, issue]       love   \n",
       "70070  [june, month, sacredheart, mean, love, like, j...       love   \n",
       "\n",
       "                                               processed  \n",
       "0                layin n bed headache ughhhh waitin call  \n",
       "1                         funeral ceremony gloomy friday  \n",
       "2                                wants hang friends soon  \n",
       "3                 want trade someone houston tickets one  \n",
       "4                     pinging go prom bc bf like friends  \n",
       "...                                                  ...  \n",
       "70066                                         love album  \n",
       "70067       stop listen z92 5 love lose selenagomez play  \n",
       "70068                     happy pride month love youuuuu  \n",
       "70069                                         love issue  \n",
       "70070  june month sacredheart mean love like jesus sa...  \n",
       "\n",
       "[70071 rows x 3 columns]"
      ],
      "text/html": "<div>\n<style scoped>\n    .dataframe tbody tr th:only-of-type {\n        vertical-align: middle;\n    }\n\n    .dataframe tbody tr th {\n        vertical-align: top;\n    }\n\n    .dataframe thead th {\n        text-align: right;\n    }\n</style>\n<table border=\"1\" class=\"dataframe\">\n  <thead>\n    <tr style=\"text-align: right;\">\n      <th></th>\n      <th>tokenized_tweets</th>\n      <th>emotion</th>\n      <th>processed</th>\n    </tr>\n  </thead>\n  <tbody>\n    <tr>\n      <th>0</th>\n      <td>[layin, n, bed, headache, ughhhh, waitin, call]</td>\n      <td>sadness</td>\n      <td>layin n bed headache ughhhh waitin call</td>\n    </tr>\n    <tr>\n      <th>1</th>\n      <td>[funeral, ceremony, gloomy, friday]</td>\n      <td>sadness</td>\n      <td>funeral ceremony gloomy friday</td>\n    </tr>\n    <tr>\n      <th>2</th>\n      <td>[wants, hang, friends, soon]</td>\n      <td>happiness</td>\n      <td>wants hang friends soon</td>\n    </tr>\n    <tr>\n      <th>3</th>\n      <td>[want, trade, someone, houston, tickets, one]</td>\n      <td>neutral</td>\n      <td>want trade someone houston tickets one</td>\n    </tr>\n    <tr>\n      <th>4</th>\n      <td>[pinging, go, prom, bc, bf, like, friends]</td>\n      <td>worry</td>\n      <td>pinging go prom bc bf like friends</td>\n    </tr>\n    <tr>\n      <th>...</th>\n      <td>...</td>\n      <td>...</td>\n      <td>...</td>\n    </tr>\n    <tr>\n      <th>70066</th>\n      <td>[love, album]</td>\n      <td>love</td>\n      <td>love album</td>\n    </tr>\n    <tr>\n      <th>70067</th>\n      <td>[stop, listen, z92, 5, love, lose, selenagomez...</td>\n      <td>love</td>\n      <td>stop listen z92 5 love lose selenagomez play</td>\n    </tr>\n    <tr>\n      <th>70068</th>\n      <td>[happy, pride, month, love, youuuuu]</td>\n      <td>love</td>\n      <td>happy pride month love youuuuu</td>\n    </tr>\n    <tr>\n      <th>70069</th>\n      <td>[love, issue]</td>\n      <td>love</td>\n      <td>love issue</td>\n    </tr>\n    <tr>\n      <th>70070</th>\n      <td>[june, month, sacredheart, mean, love, like, j...</td>\n      <td>love</td>\n      <td>june month sacredheart mean love like jesus sa...</td>\n    </tr>\n  </tbody>\n</table>\n<p>70071 rows × 3 columns</p>\n</div>"
     },
     "metadata": {},
     "execution_count": 75
    }
   ],
   "source": [
    "dataset_emotion = dataset_emotion.reset_index(drop=True)\n",
    "dataset_emotion['processed'] = dataset_emotion['tweets'].apply(lambda x: ' '.join(map(str,x)))\n",
    "dataset_emotion.rename(columns={'tweets': 'tokenized_tweets'}, inplace=True)\n",
    "dataset_emotion"
   ]
  },
  {
   "cell_type": "code",
   "execution_count": 76,
   "metadata": {},
   "outputs": [
    {
     "output_type": "execute_result",
     "data": {
      "text/plain": [
       "happiness    16740\n",
       "sadness      15090\n",
       "love         14444\n",
       "worry        13124\n",
       "neutral       8494\n",
       "surprise      2179\n",
       "Name: emotion, dtype: int64"
      ]
     },
     "metadata": {},
     "execution_count": 76
    }
   ],
   "source": [
    "dataset_emotion[\"emotion\"].value_counts()"
   ]
  },
  {
   "cell_type": "code",
   "execution_count": 77,
   "metadata": {},
   "outputs": [],
   "source": [
    "dataset_emotion = dataset_emotion[dataset_emotion['emotion'] != 'surprise']"
   ]
  },
  {
   "cell_type": "code",
   "execution_count": 78,
   "metadata": {},
   "outputs": [],
   "source": [
    "with open('dataset_emotion_preprocessed.pickle', 'wb') as f:\n",
    "   pickle.dump(dataset_emotion, f)"
   ]
  },
  {
   "cell_type": "code",
   "execution_count": 26,
   "metadata": {},
   "outputs": [],
   "source": [
    "with open('dataset_emotion_preprocessed.pickle', 'rb') as f:\n",
    "   dataset_emotion = pickle.load(f)"
   ]
  },
  {
   "cell_type": "code",
   "execution_count": 27,
   "metadata": {},
   "outputs": [
    {
     "output_type": "execute_result",
     "data": {
      "text/plain": [
       "                                        tokenized_tweets    emotion  \\\n",
       "0        [layin, n, bed, headache, ughhhh, waitin, call]    sadness   \n",
       "1                    [funeral, ceremony, gloomy, friday]    sadness   \n",
       "2                           [wants, hang, friends, soon]  happiness   \n",
       "3          [want, trade, someone, houston, tickets, one]    neutral   \n",
       "4             [pinging, go, prom, bc, bf, like, friends]      worry   \n",
       "...                                                  ...        ...   \n",
       "58958  [brief, time, beanbag, said, anna, feel, like,...    sadness   \n",
       "58959  [turning, feel, pathetic, still, waiting, tabl...    sadness   \n",
       "58960                      [feel, strong, good, overall]  happiness   \n",
       "58961              [feel, like, rude, comment, im, glad]    sadness   \n",
       "58962                 [know, lot, feel, stupid, portray]    sadness   \n",
       "\n",
       "                                               processed  \n",
       "0                layin n bed headache ughhhh waitin call  \n",
       "1                         funeral ceremony gloomy friday  \n",
       "2                                wants hang friends soon  \n",
       "3                 want trade someone houston tickets one  \n",
       "4                     pinging go prom bc bf like friends  \n",
       "...                                                  ...  \n",
       "58958      brief time beanbag said anna feel like beaten  \n",
       "58959  turning feel pathetic still waiting tables sub...  \n",
       "58960                           feel strong good overall  \n",
       "58961                     feel like rude comment im glad  \n",
       "58962                       know lot feel stupid portray  \n",
       "\n",
       "[58963 rows x 3 columns]"
      ],
      "text/html": "<div>\n<style scoped>\n    .dataframe tbody tr th:only-of-type {\n        vertical-align: middle;\n    }\n\n    .dataframe tbody tr th {\n        vertical-align: top;\n    }\n\n    .dataframe thead th {\n        text-align: right;\n    }\n</style>\n<table border=\"1\" class=\"dataframe\">\n  <thead>\n    <tr style=\"text-align: right;\">\n      <th></th>\n      <th>tokenized_tweets</th>\n      <th>emotion</th>\n      <th>processed</th>\n    </tr>\n  </thead>\n  <tbody>\n    <tr>\n      <th>0</th>\n      <td>[layin, n, bed, headache, ughhhh, waitin, call]</td>\n      <td>sadness</td>\n      <td>layin n bed headache ughhhh waitin call</td>\n    </tr>\n    <tr>\n      <th>1</th>\n      <td>[funeral, ceremony, gloomy, friday]</td>\n      <td>sadness</td>\n      <td>funeral ceremony gloomy friday</td>\n    </tr>\n    <tr>\n      <th>2</th>\n      <td>[wants, hang, friends, soon]</td>\n      <td>happiness</td>\n      <td>wants hang friends soon</td>\n    </tr>\n    <tr>\n      <th>3</th>\n      <td>[want, trade, someone, houston, tickets, one]</td>\n      <td>neutral</td>\n      <td>want trade someone houston tickets one</td>\n    </tr>\n    <tr>\n      <th>4</th>\n      <td>[pinging, go, prom, bc, bf, like, friends]</td>\n      <td>worry</td>\n      <td>pinging go prom bc bf like friends</td>\n    </tr>\n    <tr>\n      <th>...</th>\n      <td>...</td>\n      <td>...</td>\n      <td>...</td>\n    </tr>\n    <tr>\n      <th>58958</th>\n      <td>[brief, time, beanbag, said, anna, feel, like,...</td>\n      <td>sadness</td>\n      <td>brief time beanbag said anna feel like beaten</td>\n    </tr>\n    <tr>\n      <th>58959</th>\n      <td>[turning, feel, pathetic, still, waiting, tabl...</td>\n      <td>sadness</td>\n      <td>turning feel pathetic still waiting tables sub...</td>\n    </tr>\n    <tr>\n      <th>58960</th>\n      <td>[feel, strong, good, overall]</td>\n      <td>happiness</td>\n      <td>feel strong good overall</td>\n    </tr>\n    <tr>\n      <th>58961</th>\n      <td>[feel, like, rude, comment, im, glad]</td>\n      <td>sadness</td>\n      <td>feel like rude comment im glad</td>\n    </tr>\n    <tr>\n      <th>58962</th>\n      <td>[know, lot, feel, stupid, portray]</td>\n      <td>sadness</td>\n      <td>know lot feel stupid portray</td>\n    </tr>\n  </tbody>\n</table>\n<p>58963 rows × 3 columns</p>\n</div>"
     },
     "metadata": {},
     "execution_count": 27
    }
   ],
   "source": [
    "dataset_emotion"
   ]
  },
  {
   "cell_type": "code",
   "execution_count": null,
   "metadata": {},
   "outputs": [],
   "source": []
  }
 ]
}