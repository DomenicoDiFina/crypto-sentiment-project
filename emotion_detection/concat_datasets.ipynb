{
 "metadata": {
  "language_info": {
   "codemirror_mode": {
    "name": "ipython",
    "version": 3
   },
   "file_extension": ".py",
   "mimetype": "text/x-python",
   "name": "python",
   "nbconvert_exporter": "python",
   "pygments_lexer": "ipython3",
   "version": "3.8.10"
  },
  "orig_nbformat": 2,
  "kernelspec": {
   "name": "python3810jvsc74a57bd08aa68ecb43db546bb13fa2a9b715ffd5ca041c3610f015e20ddb5f048cd52453",
   "display_name": "Python 3.8.10 64-bit ('tensor': conda)"
  }
 },
 "nbformat": 4,
 "nbformat_minor": 2,
 "cells": [
  {
   "cell_type": "code",
   "execution_count": 1,
   "metadata": {},
   "outputs": [],
   "source": [
    "import pandas as pd "
   ]
  },
  {
   "cell_type": "code",
   "execution_count": 2,
   "metadata": {},
   "outputs": [],
   "source": [
    "import pickle\n",
    "\n",
    "with open('df_preprocessed_1.sav', 'rb') as f:\n",
    "   tweet_processed = pickle.load(f)\n",
    "\n",
    "with open('df_preprocessed_2.sav', 'rb') as f:\n",
    "   content_processed = pickle.load(f)\n",
    "\n"
   ]
  },
  {
   "cell_type": "code",
   "execution_count": 7,
   "metadata": {},
   "outputs": [
    {
     "output_type": "execute_result",
     "data": {
      "text/plain": [
       "                                                  tweets    emotion\n",
       "0      [know, listenin, bad, habit, earlier, started,...      other\n",
       "1        [layin, n, bed, headache, ughhhh, waitin, call]    sadness\n",
       "2                    [funeral, ceremony, gloomy, friday]    sadness\n",
       "3                           [wants, hang, friends, soon]      other\n",
       "4          [want, trade, someone, houston, tickets, one]    neutral\n",
       "...                                                  ...        ...\n",
       "15994  [brief, time, beanbag, said, anna, feel, like,...    sadness\n",
       "15995  [turning, feel, pathetic, still, waiting, tabl...    sadness\n",
       "15996                      [feel, strong, good, overall]  happiness\n",
       "15997              [feel, like, rude, comment, im, glad]      other\n",
       "15998                 [know, lot, feel, stupid, portray]    sadness\n",
       "\n",
       "[59767 rows x 2 columns]"
      ],
      "text/html": "<div>\n<style scoped>\n    .dataframe tbody tr th:only-of-type {\n        vertical-align: middle;\n    }\n\n    .dataframe tbody tr th {\n        vertical-align: top;\n    }\n\n    .dataframe thead th {\n        text-align: right;\n    }\n</style>\n<table border=\"1\" class=\"dataframe\">\n  <thead>\n    <tr style=\"text-align: right;\">\n      <th></th>\n      <th>tweets</th>\n      <th>emotion</th>\n    </tr>\n  </thead>\n  <tbody>\n    <tr>\n      <th>0</th>\n      <td>[know, listenin, bad, habit, earlier, started,...</td>\n      <td>other</td>\n    </tr>\n    <tr>\n      <th>1</th>\n      <td>[layin, n, bed, headache, ughhhh, waitin, call]</td>\n      <td>sadness</td>\n    </tr>\n    <tr>\n      <th>2</th>\n      <td>[funeral, ceremony, gloomy, friday]</td>\n      <td>sadness</td>\n    </tr>\n    <tr>\n      <th>3</th>\n      <td>[wants, hang, friends, soon]</td>\n      <td>other</td>\n    </tr>\n    <tr>\n      <th>4</th>\n      <td>[want, trade, someone, houston, tickets, one]</td>\n      <td>neutral</td>\n    </tr>\n    <tr>\n      <th>...</th>\n      <td>...</td>\n      <td>...</td>\n    </tr>\n    <tr>\n      <th>15994</th>\n      <td>[brief, time, beanbag, said, anna, feel, like,...</td>\n      <td>sadness</td>\n    </tr>\n    <tr>\n      <th>15995</th>\n      <td>[turning, feel, pathetic, still, waiting, tabl...</td>\n      <td>sadness</td>\n    </tr>\n    <tr>\n      <th>15996</th>\n      <td>[feel, strong, good, overall]</td>\n      <td>happiness</td>\n    </tr>\n    <tr>\n      <th>15997</th>\n      <td>[feel, like, rude, comment, im, glad]</td>\n      <td>other</td>\n    </tr>\n    <tr>\n      <th>15998</th>\n      <td>[know, lot, feel, stupid, portray]</td>\n      <td>sadness</td>\n    </tr>\n  </tbody>\n</table>\n<p>59767 rows × 2 columns</p>\n</div>"
     },
     "metadata": {},
     "execution_count": 7
    }
   ],
   "source": [
    "dataset_emotion = pd.concat([tweet_processed, content_processed])\n",
    "dataset_emotion"
   ]
  },
  {
   "cell_type": "code",
   "execution_count": 8,
   "metadata": {},
   "outputs": [],
   "source": [
    "dataset_emotion.to_csv('dataset_emotion.csv', index=False)"
   ]
  },
  {
   "cell_type": "code",
   "execution_count": 12,
   "metadata": {},
   "outputs": [
    {
     "output_type": "execute_result",
     "data": {
      "text/plain": [
       "tweets     ['know', 'listenin', 'bad', 'habit', 'earlier'...\n",
       "emotion                                                other\n",
       "Name: 0, dtype: object"
      ]
     },
     "metadata": {},
     "execution_count": 12
    }
   ],
   "source": [
    "a = pd.read_csv('dataset_emotion.csv')\n",
    "a.iloc[0]"
   ]
  },
  {
   "cell_type": "code",
   "execution_count": null,
   "metadata": {},
   "outputs": [],
   "source": []
  }
 ]
}