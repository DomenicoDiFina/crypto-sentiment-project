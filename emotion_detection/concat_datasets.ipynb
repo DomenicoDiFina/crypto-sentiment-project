{
 "metadata": {
  "language_info": {
   "codemirror_mode": {
    "name": "ipython",
    "version": 3
   },
   "file_extension": ".py",
   "mimetype": "text/x-python",
   "name": "python",
   "nbconvert_exporter": "python",
   "pygments_lexer": "ipython3",
   "version": "3.8.5"
  },
  "orig_nbformat": 2,
  "kernelspec": {
   "name": "venv",
   "display_name": "Python 3.8.5 64-bit ('venv': venv)"
  }
 },
 "nbformat": 4,
 "nbformat_minor": 2,
 "cells": [
  {
   "cell_type": "code",
   "execution_count": 1,
   "metadata": {},
   "outputs": [],
   "source": [
    "import pandas as pd \n",
    "import pickle"
   ]
  },
  {
   "cell_type": "code",
   "execution_count": 2,
   "metadata": {},
   "outputs": [],
   "source": [
    "with open('df_preprocessed_1.sav', 'rb') as f:\n",
    "   tweet_processed = pickle.load(f)\n",
    "\n",
    "with open('df_preprocessed_2.sav', 'rb') as f:\n",
    "   content_processed = pickle.load(f)\n",
    "\n"
   ]
  },
  {
   "cell_type": "code",
   "execution_count": 3,
   "metadata": {},
   "outputs": [
    {
     "output_type": "execute_result",
     "data": {
      "text/plain": [
       "                                                  tweets    emotion\n",
       "1        [layin, n, bed, headache, ughhhh, waitin, call]    sadness\n",
       "2                    [funeral, ceremony, gloomy, friday]    sadness\n",
       "3                           [wants, hang, friends, soon]  happiness\n",
       "4          [want, trade, someone, houston, tickets, one]    neutral\n",
       "5             [pinging, go, prom, bc, bf, like, friends]      worry\n",
       "...                                                  ...        ...\n",
       "15994  [brief, time, beanbag, said, anna, feel, like,...    sadness\n",
       "15995  [turning, feel, pathetic, still, waiting, tabl...    sadness\n",
       "15996                      [feel, strong, good, overall]  happiness\n",
       "15997              [feel, like, rude, comment, im, glad]    sadness\n",
       "15998                 [know, lot, feel, stupid, portray]    sadness\n",
       "\n",
       "[58963 rows x 2 columns]"
      ],
      "text/html": "<div>\n<style scoped>\n    .dataframe tbody tr th:only-of-type {\n        vertical-align: middle;\n    }\n\n    .dataframe tbody tr th {\n        vertical-align: top;\n    }\n\n    .dataframe thead th {\n        text-align: right;\n    }\n</style>\n<table border=\"1\" class=\"dataframe\">\n  <thead>\n    <tr style=\"text-align: right;\">\n      <th></th>\n      <th>tweets</th>\n      <th>emotion</th>\n    </tr>\n  </thead>\n  <tbody>\n    <tr>\n      <th>1</th>\n      <td>[layin, n, bed, headache, ughhhh, waitin, call]</td>\n      <td>sadness</td>\n    </tr>\n    <tr>\n      <th>2</th>\n      <td>[funeral, ceremony, gloomy, friday]</td>\n      <td>sadness</td>\n    </tr>\n    <tr>\n      <th>3</th>\n      <td>[wants, hang, friends, soon]</td>\n      <td>happiness</td>\n    </tr>\n    <tr>\n      <th>4</th>\n      <td>[want, trade, someone, houston, tickets, one]</td>\n      <td>neutral</td>\n    </tr>\n    <tr>\n      <th>5</th>\n      <td>[pinging, go, prom, bc, bf, like, friends]</td>\n      <td>worry</td>\n    </tr>\n    <tr>\n      <th>...</th>\n      <td>...</td>\n      <td>...</td>\n    </tr>\n    <tr>\n      <th>15994</th>\n      <td>[brief, time, beanbag, said, anna, feel, like,...</td>\n      <td>sadness</td>\n    </tr>\n    <tr>\n      <th>15995</th>\n      <td>[turning, feel, pathetic, still, waiting, tabl...</td>\n      <td>sadness</td>\n    </tr>\n    <tr>\n      <th>15996</th>\n      <td>[feel, strong, good, overall]</td>\n      <td>happiness</td>\n    </tr>\n    <tr>\n      <th>15997</th>\n      <td>[feel, like, rude, comment, im, glad]</td>\n      <td>sadness</td>\n    </tr>\n    <tr>\n      <th>15998</th>\n      <td>[know, lot, feel, stupid, portray]</td>\n      <td>sadness</td>\n    </tr>\n  </tbody>\n</table>\n<p>58963 rows × 2 columns</p>\n</div>"
     },
     "metadata": {},
     "execution_count": 3
    }
   ],
   "source": [
    "dataset_emotion = pd.concat([tweet_processed, content_processed])\n",
    "dataset_emotion"
   ]
  },
  {
   "cell_type": "code",
   "execution_count": 4,
   "metadata": {},
   "outputs": [
    {
     "output_type": "execute_result",
     "data": {
      "text/plain": [
       "                                        tokenized_tweets    emotion  \\\n",
       "0        [layin, n, bed, headache, ughhhh, waitin, call]    sadness   \n",
       "1                    [funeral, ceremony, gloomy, friday]    sadness   \n",
       "2                           [wants, hang, friends, soon]  happiness   \n",
       "3          [want, trade, someone, houston, tickets, one]    neutral   \n",
       "4             [pinging, go, prom, bc, bf, like, friends]      worry   \n",
       "...                                                  ...        ...   \n",
       "58958  [brief, time, beanbag, said, anna, feel, like,...    sadness   \n",
       "58959  [turning, feel, pathetic, still, waiting, tabl...    sadness   \n",
       "58960                      [feel, strong, good, overall]  happiness   \n",
       "58961              [feel, like, rude, comment, im, glad]    sadness   \n",
       "58962                 [know, lot, feel, stupid, portray]    sadness   \n",
       "\n",
       "                                               processed  \n",
       "0                layin n bed headache ughhhh waitin call  \n",
       "1                         funeral ceremony gloomy friday  \n",
       "2                                wants hang friends soon  \n",
       "3                 want trade someone houston tickets one  \n",
       "4                     pinging go prom bc bf like friends  \n",
       "...                                                  ...  \n",
       "58958      brief time beanbag said anna feel like beaten  \n",
       "58959  turning feel pathetic still waiting tables sub...  \n",
       "58960                           feel strong good overall  \n",
       "58961                     feel like rude comment im glad  \n",
       "58962                       know lot feel stupid portray  \n",
       "\n",
       "[58963 rows x 3 columns]"
      ],
      "text/html": "<div>\n<style scoped>\n    .dataframe tbody tr th:only-of-type {\n        vertical-align: middle;\n    }\n\n    .dataframe tbody tr th {\n        vertical-align: top;\n    }\n\n    .dataframe thead th {\n        text-align: right;\n    }\n</style>\n<table border=\"1\" class=\"dataframe\">\n  <thead>\n    <tr style=\"text-align: right;\">\n      <th></th>\n      <th>tokenized_tweets</th>\n      <th>emotion</th>\n      <th>processed</th>\n    </tr>\n  </thead>\n  <tbody>\n    <tr>\n      <th>0</th>\n      <td>[layin, n, bed, headache, ughhhh, waitin, call]</td>\n      <td>sadness</td>\n      <td>layin n bed headache ughhhh waitin call</td>\n    </tr>\n    <tr>\n      <th>1</th>\n      <td>[funeral, ceremony, gloomy, friday]</td>\n      <td>sadness</td>\n      <td>funeral ceremony gloomy friday</td>\n    </tr>\n    <tr>\n      <th>2</th>\n      <td>[wants, hang, friends, soon]</td>\n      <td>happiness</td>\n      <td>wants hang friends soon</td>\n    </tr>\n    <tr>\n      <th>3</th>\n      <td>[want, trade, someone, houston, tickets, one]</td>\n      <td>neutral</td>\n      <td>want trade someone houston tickets one</td>\n    </tr>\n    <tr>\n      <th>4</th>\n      <td>[pinging, go, prom, bc, bf, like, friends]</td>\n      <td>worry</td>\n      <td>pinging go prom bc bf like friends</td>\n    </tr>\n    <tr>\n      <th>...</th>\n      <td>...</td>\n      <td>...</td>\n      <td>...</td>\n    </tr>\n    <tr>\n      <th>58958</th>\n      <td>[brief, time, beanbag, said, anna, feel, like,...</td>\n      <td>sadness</td>\n      <td>brief time beanbag said anna feel like beaten</td>\n    </tr>\n    <tr>\n      <th>58959</th>\n      <td>[turning, feel, pathetic, still, waiting, tabl...</td>\n      <td>sadness</td>\n      <td>turning feel pathetic still waiting tables sub...</td>\n    </tr>\n    <tr>\n      <th>58960</th>\n      <td>[feel, strong, good, overall]</td>\n      <td>happiness</td>\n      <td>feel strong good overall</td>\n    </tr>\n    <tr>\n      <th>58961</th>\n      <td>[feel, like, rude, comment, im, glad]</td>\n      <td>sadness</td>\n      <td>feel like rude comment im glad</td>\n    </tr>\n    <tr>\n      <th>58962</th>\n      <td>[know, lot, feel, stupid, portray]</td>\n      <td>sadness</td>\n      <td>know lot feel stupid portray</td>\n    </tr>\n  </tbody>\n</table>\n<p>58963 rows × 3 columns</p>\n</div>"
     },
     "metadata": {},
     "execution_count": 4
    }
   ],
   "source": [
    "dataset_emotion = dataset_emotion.reset_index(drop=True)\n",
    "dataset_emotion['processed'] = dataset_emotion['tweets'].apply(lambda x: ' '.join(map(str,x)))\n",
    "dataset_emotion.rename(columns={'tweets': 'tokenized_tweets'}, inplace=True)\n",
    "dataset_emotion"
   ]
  },
  {
   "cell_type": "code",
   "execution_count": 5,
   "metadata": {},
   "outputs": [
    {
     "output_type": "execute_result",
     "data": {
      "text/plain": [
       "array(['sadness', 'happiness', 'neutral', 'worry', 'surprise', 'love'],\n",
       "      dtype=object)"
      ]
     },
     "metadata": {},
     "execution_count": 5
    }
   ],
   "source": [
    "dataset_emotion[\"emotion\"].unique()"
   ]
  },
  {
   "cell_type": "code",
   "execution_count": 7,
   "metadata": {},
   "outputs": [],
   "source": [
    "with open('dataset_emotion_preprocessed.pickle', 'wb') as f:\n",
    "   pickle.dump(dataset_emotion, f)"
   ]
  }
 ]
}